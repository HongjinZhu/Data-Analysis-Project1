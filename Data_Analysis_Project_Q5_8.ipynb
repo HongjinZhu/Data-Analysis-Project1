{
  "nbformat": 4,
  "nbformat_minor": 0,
  "metadata": {
    "colab": {
      "provenance": [],
      "toc_visible": true
    },
    "kernelspec": {
      "name": "python3",
      "display_name": "Python 3"
    },
    "language_info": {
      "name": "python"
    }
  },
  "cells": [
    {
      "cell_type": "code",
      "execution_count": null,
      "metadata": {
        "id": "siolZI5gswPB"
      },
      "outputs": [],
      "source": [
        "import numpy as np\n",
        "import pandas as pd\n",
        "from scipy import stats\n",
        "import matplotlib.pyplot as plt\n",
        "import seaborn as sns"
      ]
    },
    {
      "cell_type": "code",
      "source": [
        "data_df = pd.read_csv('/content/sample_data/movieReplicationSet.csv')\n",
        "data_df.head()"
      ],
      "metadata": {
        "colab": {
          "base_uri": "https://localhost:8080/",
          "height": 496
        },
        "id": "yhfEhLxZewa7",
        "outputId": "d5efc408-b8e7-4192-ca7c-40f2deefe79b"
      },
      "execution_count": null,
      "outputs": [
        {
          "output_type": "execute_result",
          "data": {
            "text/plain": [
              "   The Life of David Gale (2003)  Wing Commander (1999)  \\\n",
              "0                            NaN                    NaN   \n",
              "1                            NaN                    NaN   \n",
              "2                            NaN                    NaN   \n",
              "3                            NaN                    NaN   \n",
              "4                            NaN                    NaN   \n",
              "\n",
              "   Django Unchained (2012)  Alien (1979)  \\\n",
              "0                      4.0           NaN   \n",
              "1                      1.5           NaN   \n",
              "2                      NaN           NaN   \n",
              "3                      2.0           NaN   \n",
              "4                      3.5           NaN   \n",
              "\n",
              "   Indiana Jones and the Last Crusade (1989)  Snatch (2000)  \\\n",
              "0                                        3.0            NaN   \n",
              "1                                        NaN            NaN   \n",
              "2                                        NaN            NaN   \n",
              "3                                        3.0            NaN   \n",
              "4                                        0.5            NaN   \n",
              "\n",
              "   Rambo: First Blood Part II (1985)  Fargo (1996)  \\\n",
              "0                                NaN           NaN   \n",
              "1                                NaN           NaN   \n",
              "2                                NaN           NaN   \n",
              "3                                NaN           NaN   \n",
              "4                                0.5           1.0   \n",
              "\n",
              "   Let the Right One In (2008)  Black Swan (2010)  ...  \\\n",
              "0                          NaN                NaN  ...   \n",
              "1                          NaN                NaN  ...   \n",
              "2                          NaN                NaN  ...   \n",
              "3                          NaN                4.0  ...   \n",
              "4                          NaN                0.0  ...   \n",
              "\n",
              "   When watching a movie I cheer or shout or talk or curse at the screen  \\\n",
              "0                                                1.0                       \n",
              "1                                                3.0                       \n",
              "2                                                5.0                       \n",
              "3                                                3.0                       \n",
              "4                                                2.0                       \n",
              "\n",
              "   When watching a movie I feel like the things on the screen are happening to me  \\\n",
              "0                                                6.0                                \n",
              "1                                                1.0                                \n",
              "2                                                4.0                                \n",
              "3                                                1.0                                \n",
              "4                                                3.0                                \n",
              "\n",
              "   As a movie unfolds I start to have problems keeping track of events that happened earlier  \\\n",
              "0                                                2.0                                           \n",
              "1                                                1.0                                           \n",
              "2                                                3.0                                           \n",
              "3                                                1.0                                           \n",
              "4                                                2.0                                           \n",
              "\n",
              "   The emotions on the screen \"rub off\" on me - for instance if something sad is happening I get sad or if something frightening is happening I get scared  \\\n",
              "0                                                5.0                                                                                                         \n",
              "1                                                6.0                                                                                                         \n",
              "2                                                5.0                                                                                                         \n",
              "3                                                4.0                                                                                                         \n",
              "4                                                5.0                                                                                                         \n",
              "\n",
              "   When watching a movie I get completely immersed in the alternative reality of the film  \\\n",
              "0                                                5.0                                        \n",
              "1                                                5.0                                        \n",
              "2                                                5.0                                        \n",
              "3                                                5.0                                        \n",
              "4                                                6.0                                        \n",
              "\n",
              "   Movies change my position on social economic or political issues  \\\n",
              "0                                                5.0                  \n",
              "1                                                3.0                  \n",
              "2                                                4.0                  \n",
              "3                                                3.0                  \n",
              "4                                                4.0                  \n",
              "\n",
              "   When watching movies things get so intense that I have to stop watching  \\\n",
              "0                                                1.0                         \n",
              "1                                                2.0                         \n",
              "2                                                4.0                         \n",
              "3                                                1.0                         \n",
              "4                                                4.0                         \n",
              "\n",
              "   Gender identity (1 = female; 2 = male; 3 = self-described)  \\\n",
              "0                                                1.0            \n",
              "1                                                1.0            \n",
              "2                                                1.0            \n",
              "3                                                1.0            \n",
              "4                                                1.0            \n",
              "\n",
              "   Are you an only child? (1: Yes; 0: No; -1: Did not respond)  \\\n",
              "0                                                  0             \n",
              "1                                                  0             \n",
              "2                                                  1             \n",
              "3                                                  0             \n",
              "4                                                  1             \n",
              "\n",
              "   Movies are best enjoyed alone (1: Yes; 0: No; -1: Did not respond)  \n",
              "0                                                  1                   \n",
              "1                                                  0                   \n",
              "2                                                  0                   \n",
              "3                                                  1                   \n",
              "4                                                  1                   \n",
              "\n",
              "[5 rows x 477 columns]"
            ],
            "text/html": [
              "\n",
              "  <div id=\"df-1176f10b-d0f7-4c33-864c-7ce37f6b0272\" class=\"colab-df-container\">\n",
              "    <div>\n",
              "<style scoped>\n",
              "    .dataframe tbody tr th:only-of-type {\n",
              "        vertical-align: middle;\n",
              "    }\n",
              "\n",
              "    .dataframe tbody tr th {\n",
              "        vertical-align: top;\n",
              "    }\n",
              "\n",
              "    .dataframe thead th {\n",
              "        text-align: right;\n",
              "    }\n",
              "</style>\n",
              "<table border=\"1\" class=\"dataframe\">\n",
              "  <thead>\n",
              "    <tr style=\"text-align: right;\">\n",
              "      <th></th>\n",
              "      <th>The Life of David Gale (2003)</th>\n",
              "      <th>Wing Commander (1999)</th>\n",
              "      <th>Django Unchained (2012)</th>\n",
              "      <th>Alien (1979)</th>\n",
              "      <th>Indiana Jones and the Last Crusade (1989)</th>\n",
              "      <th>Snatch (2000)</th>\n",
              "      <th>Rambo: First Blood Part II (1985)</th>\n",
              "      <th>Fargo (1996)</th>\n",
              "      <th>Let the Right One In (2008)</th>\n",
              "      <th>Black Swan (2010)</th>\n",
              "      <th>...</th>\n",
              "      <th>When watching a movie I cheer or shout or talk or curse at the screen</th>\n",
              "      <th>When watching a movie I feel like the things on the screen are happening to me</th>\n",
              "      <th>As a movie unfolds I start to have problems keeping track of events that happened earlier</th>\n",
              "      <th>The emotions on the screen \"rub off\" on me - for instance if something sad is happening I get sad or if something frightening is happening I get scared</th>\n",
              "      <th>When watching a movie I get completely immersed in the alternative reality of the film</th>\n",
              "      <th>Movies change my position on social economic or political issues</th>\n",
              "      <th>When watching movies things get so intense that I have to stop watching</th>\n",
              "      <th>Gender identity (1 = female; 2 = male; 3 = self-described)</th>\n",
              "      <th>Are you an only child? (1: Yes; 0: No; -1: Did not respond)</th>\n",
              "      <th>Movies are best enjoyed alone (1: Yes; 0: No; -1: Did not respond)</th>\n",
              "    </tr>\n",
              "  </thead>\n",
              "  <tbody>\n",
              "    <tr>\n",
              "      <th>0</th>\n",
              "      <td>NaN</td>\n",
              "      <td>NaN</td>\n",
              "      <td>4.0</td>\n",
              "      <td>NaN</td>\n",
              "      <td>3.0</td>\n",
              "      <td>NaN</td>\n",
              "      <td>NaN</td>\n",
              "      <td>NaN</td>\n",
              "      <td>NaN</td>\n",
              "      <td>NaN</td>\n",
              "      <td>...</td>\n",
              "      <td>1.0</td>\n",
              "      <td>6.0</td>\n",
              "      <td>2.0</td>\n",
              "      <td>5.0</td>\n",
              "      <td>5.0</td>\n",
              "      <td>5.0</td>\n",
              "      <td>1.0</td>\n",
              "      <td>1.0</td>\n",
              "      <td>0</td>\n",
              "      <td>1</td>\n",
              "    </tr>\n",
              "    <tr>\n",
              "      <th>1</th>\n",
              "      <td>NaN</td>\n",
              "      <td>NaN</td>\n",
              "      <td>1.5</td>\n",
              "      <td>NaN</td>\n",
              "      <td>NaN</td>\n",
              "      <td>NaN</td>\n",
              "      <td>NaN</td>\n",
              "      <td>NaN</td>\n",
              "      <td>NaN</td>\n",
              "      <td>NaN</td>\n",
              "      <td>...</td>\n",
              "      <td>3.0</td>\n",
              "      <td>1.0</td>\n",
              "      <td>1.0</td>\n",
              "      <td>6.0</td>\n",
              "      <td>5.0</td>\n",
              "      <td>3.0</td>\n",
              "      <td>2.0</td>\n",
              "      <td>1.0</td>\n",
              "      <td>0</td>\n",
              "      <td>0</td>\n",
              "    </tr>\n",
              "    <tr>\n",
              "      <th>2</th>\n",
              "      <td>NaN</td>\n",
              "      <td>NaN</td>\n",
              "      <td>NaN</td>\n",
              "      <td>NaN</td>\n",
              "      <td>NaN</td>\n",
              "      <td>NaN</td>\n",
              "      <td>NaN</td>\n",
              "      <td>NaN</td>\n",
              "      <td>NaN</td>\n",
              "      <td>NaN</td>\n",
              "      <td>...</td>\n",
              "      <td>5.0</td>\n",
              "      <td>4.0</td>\n",
              "      <td>3.0</td>\n",
              "      <td>5.0</td>\n",
              "      <td>5.0</td>\n",
              "      <td>4.0</td>\n",
              "      <td>4.0</td>\n",
              "      <td>1.0</td>\n",
              "      <td>1</td>\n",
              "      <td>0</td>\n",
              "    </tr>\n",
              "    <tr>\n",
              "      <th>3</th>\n",
              "      <td>NaN</td>\n",
              "      <td>NaN</td>\n",
              "      <td>2.0</td>\n",
              "      <td>NaN</td>\n",
              "      <td>3.0</td>\n",
              "      <td>NaN</td>\n",
              "      <td>NaN</td>\n",
              "      <td>NaN</td>\n",
              "      <td>NaN</td>\n",
              "      <td>4.0</td>\n",
              "      <td>...</td>\n",
              "      <td>3.0</td>\n",
              "      <td>1.0</td>\n",
              "      <td>1.0</td>\n",
              "      <td>4.0</td>\n",
              "      <td>5.0</td>\n",
              "      <td>3.0</td>\n",
              "      <td>1.0</td>\n",
              "      <td>1.0</td>\n",
              "      <td>0</td>\n",
              "      <td>1</td>\n",
              "    </tr>\n",
              "    <tr>\n",
              "      <th>4</th>\n",
              "      <td>NaN</td>\n",
              "      <td>NaN</td>\n",
              "      <td>3.5</td>\n",
              "      <td>NaN</td>\n",
              "      <td>0.5</td>\n",
              "      <td>NaN</td>\n",
              "      <td>0.5</td>\n",
              "      <td>1.0</td>\n",
              "      <td>NaN</td>\n",
              "      <td>0.0</td>\n",
              "      <td>...</td>\n",
              "      <td>2.0</td>\n",
              "      <td>3.0</td>\n",
              "      <td>2.0</td>\n",
              "      <td>5.0</td>\n",
              "      <td>6.0</td>\n",
              "      <td>4.0</td>\n",
              "      <td>4.0</td>\n",
              "      <td>1.0</td>\n",
              "      <td>1</td>\n",
              "      <td>1</td>\n",
              "    </tr>\n",
              "  </tbody>\n",
              "</table>\n",
              "<p>5 rows × 477 columns</p>\n",
              "</div>\n",
              "    <div class=\"colab-df-buttons\">\n",
              "\n",
              "  <div class=\"colab-df-container\">\n",
              "    <button class=\"colab-df-convert\" onclick=\"convertToInteractive('df-1176f10b-d0f7-4c33-864c-7ce37f6b0272')\"\n",
              "            title=\"Convert this dataframe to an interactive table.\"\n",
              "            style=\"display:none;\">\n",
              "\n",
              "  <svg xmlns=\"http://www.w3.org/2000/svg\" height=\"24px\" viewBox=\"0 -960 960 960\">\n",
              "    <path d=\"M120-120v-720h720v720H120Zm60-500h600v-160H180v160Zm220 220h160v-160H400v160Zm0 220h160v-160H400v160ZM180-400h160v-160H180v160Zm440 0h160v-160H620v160ZM180-180h160v-160H180v160Zm440 0h160v-160H620v160Z\"/>\n",
              "  </svg>\n",
              "    </button>\n",
              "\n",
              "  <style>\n",
              "    .colab-df-container {\n",
              "      display:flex;\n",
              "      gap: 12px;\n",
              "    }\n",
              "\n",
              "    .colab-df-convert {\n",
              "      background-color: #E8F0FE;\n",
              "      border: none;\n",
              "      border-radius: 50%;\n",
              "      cursor: pointer;\n",
              "      display: none;\n",
              "      fill: #1967D2;\n",
              "      height: 32px;\n",
              "      padding: 0 0 0 0;\n",
              "      width: 32px;\n",
              "    }\n",
              "\n",
              "    .colab-df-convert:hover {\n",
              "      background-color: #E2EBFA;\n",
              "      box-shadow: 0px 1px 2px rgba(60, 64, 67, 0.3), 0px 1px 3px 1px rgba(60, 64, 67, 0.15);\n",
              "      fill: #174EA6;\n",
              "    }\n",
              "\n",
              "    .colab-df-buttons div {\n",
              "      margin-bottom: 4px;\n",
              "    }\n",
              "\n",
              "    [theme=dark] .colab-df-convert {\n",
              "      background-color: #3B4455;\n",
              "      fill: #D2E3FC;\n",
              "    }\n",
              "\n",
              "    [theme=dark] .colab-df-convert:hover {\n",
              "      background-color: #434B5C;\n",
              "      box-shadow: 0px 1px 3px 1px rgba(0, 0, 0, 0.15);\n",
              "      filter: drop-shadow(0px 1px 2px rgba(0, 0, 0, 0.3));\n",
              "      fill: #FFFFFF;\n",
              "    }\n",
              "  </style>\n",
              "\n",
              "    <script>\n",
              "      const buttonEl =\n",
              "        document.querySelector('#df-1176f10b-d0f7-4c33-864c-7ce37f6b0272 button.colab-df-convert');\n",
              "      buttonEl.style.display =\n",
              "        google.colab.kernel.accessAllowed ? 'block' : 'none';\n",
              "\n",
              "      async function convertToInteractive(key) {\n",
              "        const element = document.querySelector('#df-1176f10b-d0f7-4c33-864c-7ce37f6b0272');\n",
              "        const dataTable =\n",
              "          await google.colab.kernel.invokeFunction('convertToInteractive',\n",
              "                                                    [key], {});\n",
              "        if (!dataTable) return;\n",
              "\n",
              "        const docLinkHtml = 'Like what you see? Visit the ' +\n",
              "          '<a target=\"_blank\" href=https://colab.research.google.com/notebooks/data_table.ipynb>data table notebook</a>'\n",
              "          + ' to learn more about interactive tables.';\n",
              "        element.innerHTML = '';\n",
              "        dataTable['output_type'] = 'display_data';\n",
              "        await google.colab.output.renderOutput(dataTable, element);\n",
              "        const docLink = document.createElement('div');\n",
              "        docLink.innerHTML = docLinkHtml;\n",
              "        element.appendChild(docLink);\n",
              "      }\n",
              "    </script>\n",
              "  </div>\n",
              "\n",
              "\n",
              "<div id=\"df-de4958b4-d3ed-4f01-8509-f230a3570136\">\n",
              "  <button class=\"colab-df-quickchart\" onclick=\"quickchart('df-de4958b4-d3ed-4f01-8509-f230a3570136')\"\n",
              "            title=\"Suggest charts.\"\n",
              "            style=\"display:none;\">\n",
              "\n",
              "<svg xmlns=\"http://www.w3.org/2000/svg\" height=\"24px\"viewBox=\"0 0 24 24\"\n",
              "     width=\"24px\">\n",
              "    <g>\n",
              "        <path d=\"M19 3H5c-1.1 0-2 .9-2 2v14c0 1.1.9 2 2 2h14c1.1 0 2-.9 2-2V5c0-1.1-.9-2-2-2zM9 17H7v-7h2v7zm4 0h-2V7h2v10zm4 0h-2v-4h2v4z\"/>\n",
              "    </g>\n",
              "</svg>\n",
              "  </button>\n",
              "\n",
              "<style>\n",
              "  .colab-df-quickchart {\n",
              "      --bg-color: #E8F0FE;\n",
              "      --fill-color: #1967D2;\n",
              "      --hover-bg-color: #E2EBFA;\n",
              "      --hover-fill-color: #174EA6;\n",
              "      --disabled-fill-color: #AAA;\n",
              "      --disabled-bg-color: #DDD;\n",
              "  }\n",
              "\n",
              "  [theme=dark] .colab-df-quickchart {\n",
              "      --bg-color: #3B4455;\n",
              "      --fill-color: #D2E3FC;\n",
              "      --hover-bg-color: #434B5C;\n",
              "      --hover-fill-color: #FFFFFF;\n",
              "      --disabled-bg-color: #3B4455;\n",
              "      --disabled-fill-color: #666;\n",
              "  }\n",
              "\n",
              "  .colab-df-quickchart {\n",
              "    background-color: var(--bg-color);\n",
              "    border: none;\n",
              "    border-radius: 50%;\n",
              "    cursor: pointer;\n",
              "    display: none;\n",
              "    fill: var(--fill-color);\n",
              "    height: 32px;\n",
              "    padding: 0;\n",
              "    width: 32px;\n",
              "  }\n",
              "\n",
              "  .colab-df-quickchart:hover {\n",
              "    background-color: var(--hover-bg-color);\n",
              "    box-shadow: 0 1px 2px rgba(60, 64, 67, 0.3), 0 1px 3px 1px rgba(60, 64, 67, 0.15);\n",
              "    fill: var(--button-hover-fill-color);\n",
              "  }\n",
              "\n",
              "  .colab-df-quickchart-complete:disabled,\n",
              "  .colab-df-quickchart-complete:disabled:hover {\n",
              "    background-color: var(--disabled-bg-color);\n",
              "    fill: var(--disabled-fill-color);\n",
              "    box-shadow: none;\n",
              "  }\n",
              "\n",
              "  .colab-df-spinner {\n",
              "    border: 2px solid var(--fill-color);\n",
              "    border-color: transparent;\n",
              "    border-bottom-color: var(--fill-color);\n",
              "    animation:\n",
              "      spin 1s steps(1) infinite;\n",
              "  }\n",
              "\n",
              "  @keyframes spin {\n",
              "    0% {\n",
              "      border-color: transparent;\n",
              "      border-bottom-color: var(--fill-color);\n",
              "      border-left-color: var(--fill-color);\n",
              "    }\n",
              "    20% {\n",
              "      border-color: transparent;\n",
              "      border-left-color: var(--fill-color);\n",
              "      border-top-color: var(--fill-color);\n",
              "    }\n",
              "    30% {\n",
              "      border-color: transparent;\n",
              "      border-left-color: var(--fill-color);\n",
              "      border-top-color: var(--fill-color);\n",
              "      border-right-color: var(--fill-color);\n",
              "    }\n",
              "    40% {\n",
              "      border-color: transparent;\n",
              "      border-right-color: var(--fill-color);\n",
              "      border-top-color: var(--fill-color);\n",
              "    }\n",
              "    60% {\n",
              "      border-color: transparent;\n",
              "      border-right-color: var(--fill-color);\n",
              "    }\n",
              "    80% {\n",
              "      border-color: transparent;\n",
              "      border-right-color: var(--fill-color);\n",
              "      border-bottom-color: var(--fill-color);\n",
              "    }\n",
              "    90% {\n",
              "      border-color: transparent;\n",
              "      border-bottom-color: var(--fill-color);\n",
              "    }\n",
              "  }\n",
              "</style>\n",
              "\n",
              "  <script>\n",
              "    async function quickchart(key) {\n",
              "      const quickchartButtonEl =\n",
              "        document.querySelector('#' + key + ' button');\n",
              "      quickchartButtonEl.disabled = true;  // To prevent multiple clicks.\n",
              "      quickchartButtonEl.classList.add('colab-df-spinner');\n",
              "      try {\n",
              "        const charts = await google.colab.kernel.invokeFunction(\n",
              "            'suggestCharts', [key], {});\n",
              "      } catch (error) {\n",
              "        console.error('Error during call to suggestCharts:', error);\n",
              "      }\n",
              "      quickchartButtonEl.classList.remove('colab-df-spinner');\n",
              "      quickchartButtonEl.classList.add('colab-df-quickchart-complete');\n",
              "    }\n",
              "    (() => {\n",
              "      let quickchartButtonEl =\n",
              "        document.querySelector('#df-de4958b4-d3ed-4f01-8509-f230a3570136 button');\n",
              "      quickchartButtonEl.style.display =\n",
              "        google.colab.kernel.accessAllowed ? 'block' : 'none';\n",
              "    })();\n",
              "  </script>\n",
              "</div>\n",
              "    </div>\n",
              "  </div>\n"
            ]
          },
          "metadata": {},
          "execution_count": 3
        }
      ]
    },
    {
      "cell_type": "markdown",
      "source": [
        "## 5)  Do people who are only children enjoy 'The Lion King (1994)' more than people with siblings?"
      ],
      "metadata": {
        "id": "KZc-xSrIkotb"
      }
    },
    {
      "cell_type": "code",
      "source": [
        "L0 = pd.to_numeric(data_df['The Lion King (1994)'].loc[data_df['Are you an only child? (1: Yes; 0: No; -1: Did not respond)']==0],errors='coerce').values # Not an only child\n",
        "L1 = pd.to_numeric(data_df['The Lion King (1994)'].loc[data_df['Are you an only child? (1: Yes; 0: No; -1: Did not respond)']==1],errors='coerce').values # Only child\n",
        "\n",
        "# element-wise remove NaN\n",
        "L0 = L0[np.isfinite(L0)]\n",
        "L1 = L1[np.isfinite(L1)]"
      ],
      "metadata": {
        "id": "ZJLsLZJBfz2J"
      },
      "execution_count": null,
      "outputs": []
    },
    {
      "cell_type": "code",
      "source": [
        "# plot hist of two groups\n",
        "n_bins = 10\n",
        "fig, axs = plt.subplots(1, 2, sharey=False, tight_layout=True)\n",
        "\n",
        "axs[0].hist(L0, bins=n_bins)\n",
        "axs[1].hist(L1, bins=n_bins)"
      ],
      "metadata": {
        "colab": {
          "base_uri": "https://localhost:8080/",
          "height": 539
        },
        "id": "DGDwlG0nhCN0",
        "outputId": "9ca08256-495b-416b-c9f4-463043eed854"
      },
      "execution_count": null,
      "outputs": [
        {
          "output_type": "execute_result",
          "data": {
            "text/plain": [
              "(array([ 1.,  3.,  1.,  2.,  0.,  6., 12., 32., 28., 66.]),\n",
              " array([0. , 0.4, 0.8, 1.2, 1.6, 2. , 2.4, 2.8, 3.2, 3.6, 4. ]),\n",
              " <BarContainer object of 10 artists>)"
            ]
          },
          "metadata": {},
          "execution_count": 5
        },
        {
          "output_type": "display_data",
          "data": {
            "text/plain": [
              "<Figure size 640x480 with 2 Axes>"
            ],
            "image/png": "[encoded data removed]"
          },
          "metadata": {}
        }
      ]
    },
    {
      "cell_type": "code",
      "source": [
        "# Since they have similar distribution, we can use Mann Whiteney U test\n",
        "u1,p1 = stats.mannwhitneyu(L0, L1)\n",
        "u1,p1"
      ],
      "metadata": {
        "colab": {
          "base_uri": "https://localhost:8080/"
        },
        "id": "4WWargdGhwVk",
        "outputId": "10e5d7f6-a16f-4c69-fc02-589276de2c57"
      },
      "execution_count": null,
      "outputs": [
        {
          "output_type": "execute_result",
          "data": {
            "text/plain": [
              "(64247.0, 0.04319872995682849)"
            ]
          },
          "metadata": {},
          "execution_count": 8
        }
      ]
    },
    {
      "cell_type": "markdown",
      "source": [
        "## 6)  What proportion of movies exhibit an “only child effect”, i.e. are rated different by viewers with siblings vs. those without?"
      ],
      "metadata": {
        "id": "TNF_BHHak4y-"
      }
    },
    {
      "cell_type": "code",
      "source": [
        "p_val = []\n",
        "\n",
        "start = 1\n",
        "end = 400\n",
        "\n",
        "effect = 'Are you an only child? (1: Yes; 0: No; -1: Did not respond)'\n",
        "\n",
        "for col_idx in range(start, end+1):\n",
        "    movie = data_df.columns[col_idx]\n",
        "    group1 = data_df[data_df[effect] == 1].iloc[:, col_idx]\n",
        "    group0 = data_df[data_df[effect] == 0].iloc[:, col_idx]\n",
        "\n",
        "    group1 = group1[np.isfinite(group1)]\n",
        "    group0 = group0[np.isfinite(group0)]\n",
        "\n",
        "    _, p = stats.mannwhitneyu(group0, group1)\n",
        "    p_val.append((movie, p))\n",
        "\n",
        "alpha = 0.005\n",
        "s_movies = sum(p < alpha for _, p in p_val)\n",
        "proportion = s_movies / len(p_val)\n",
        "\n",
        "print(f\"Proportion of movies which exhibit an only child effect: {proportion * 100:.2f}%\")"
      ],
      "metadata": {
        "colab": {
          "base_uri": "https://localhost:8080/"
        },
        "id": "5Ss14W-HkY_b",
        "outputId": "39257ad9-4815-4876-b367-6c798a12a2d1"
      },
      "execution_count": null,
      "outputs": [
        {
          "output_type": "stream",
          "name": "stdout",
          "text": [
            "Proportion of movies which exhibit an only child effect: 1.75%\n"
          ]
        }
      ]
    },
    {
      "cell_type": "markdown",
      "source": [
        "## 7) Do people who like to watch movies socially enjoy 'The Wolf of Wall Street (2013)' more than those who prefer to watch them alone?"
      ],
      "metadata": {
        "id": "j2hA6HaolPaI"
      }
    },
    {
      "cell_type": "code",
      "source": [
        "W0 = pd.to_numeric(data_df['The Wolf of Wall Street (2013)'].loc[data_df['Movies are best enjoyed alone (1: Yes; 0: No; -1: Did not respond)']==0],errors='coerce').values # like to watch movies socially\n",
        "W1 = pd.to_numeric(data_df['The Wolf of Wall Street (2013)'].loc[data_df['Movies are best enjoyed alone (1: Yes; 0: No; -1: Did not respond)']==1],errors='coerce').values # prefer to watch alone\n",
        "\n",
        "# element-wise remove NaN\n",
        "W0 = W0[np.isfinite(W0)]\n",
        "W1 = W1[np.isfinite(W1)]"
      ],
      "metadata": {
        "id": "2kREokPflXxB"
      },
      "execution_count": null,
      "outputs": []
    },
    {
      "cell_type": "code",
      "source": [
        "# plot hist of two groups\n",
        "n_bins = 10\n",
        "fig, axs = plt.subplots(1, 2, sharey=False, tight_layout=True)\n",
        "\n",
        "axs[0].hist(W0, bins=n_bins)\n",
        "axs[1].hist(W1, bins=n_bins)"
      ],
      "metadata": {
        "colab": {
          "base_uri": "https://localhost:8080/",
          "height": 538
        },
        "id": "_UOxfhSHov6L",
        "outputId": "d6192a18-0d19-4b4c-dc9d-d9fa4a47e500"
      },
      "execution_count": null,
      "outputs": [
        {
          "output_type": "execute_result",
          "data": {
            "text/plain": [
              "(array([  4.,   5.,   9.,  13.,   0.,  22.,  46.,  81.,  99., 114.]),\n",
              " array([0. , 0.4, 0.8, 1.2, 1.6, 2. , 2.4, 2.8, 3.2, 3.6, 4. ]),\n",
              " <BarContainer object of 10 artists>)"
            ]
          },
          "metadata": {},
          "execution_count": 11
        },
        {
          "output_type": "display_data",
          "data": {
            "text/plain": [
              "<Figure size 640x480 with 2 Axes>"
            ],
            "image/png": "[encoded data removed]"
          },
          "metadata": {}
        }
      ]
    },
    {
      "cell_type": "code",
      "source": [
        "u2,p2 = stats.mannwhitneyu(W0, W1)\n",
        "u2,p2"
      ],
      "metadata": {
        "colab": {
          "base_uri": "https://localhost:8080/"
        },
        "id": "qW0m4Zi2o0VE",
        "outputId": "13610c25-da5b-4687-f770-cc9f1763cc92"
      },
      "execution_count": null,
      "outputs": [
        {
          "output_type": "execute_result",
          "data": {
            "text/plain": [
              "(49303.5, 0.1127642933222891)"
            ]
          },
          "metadata": {},
          "execution_count": 12
        }
      ]
    },
    {
      "cell_type": "markdown",
      "source": [
        "## 8) What proportion of movies exhibit such a “social watching” effect?"
      ],
      "metadata": {
        "id": "Z5-S2GfQungW"
      }
    },
    {
      "cell_type": "code",
      "source": [
        "p_val2 = []\n",
        "\n",
        "start = 1\n",
        "end = 400\n",
        "\n",
        "effect = 'Movies are best enjoyed alone (1: Yes; 0: No; -1: Did not respond)'\n",
        "\n",
        "for col_idx in range(start, end+1):\n",
        "  movie = data_df.columns[col_idx]\n",
        "  group1 = data_df[data_df[effect] == 1].iloc[:, col_idx]\n",
        "  group0 = data_df[data_df[effect] == 0].iloc[:, col_idx]\n",
        "\n",
        "  group1 = group1[np.isfinite(group1)]\n",
        "  group0 = group0[np.isfinite(group0)]\n",
        "\n",
        "  _, p = stats.mannwhitneyu(group0, group1)\n",
        "  p_val2.append((movie, p))\n",
        "\n",
        "alpha = 0.005\n",
        "s_movies2 = sum(p < alpha for _, p in p_val2)\n",
        "proportion2 = s_movies2 / len(p_val2)\n",
        "\n",
        "print(f\"Proportion of movies which exhibit a social watching effect: {proportion2 * 100:.2f}%\")"
      ],
      "metadata": {
        "colab": {
          "base_uri": "https://localhost:8080/"
        },
        "id": "fIfol5znprhL",
        "outputId": "7ab7c36e-3333-423d-ca7a-0f12a5377038"
      },
      "execution_count": null,
      "outputs": [
        {
          "output_type": "stream",
          "name": "stdout",
          "text": [
            "Proportion of movies which exhibit a social watching effect: 2.50%\n"
          ]
        }
      ]
    },
    {
      "cell_type": "code",
      "source": [],
      "metadata": {
        "id": "Ff2wLNUNvPIj"
      },
      "execution_count": null,
      "outputs": []
    }
  ]
}